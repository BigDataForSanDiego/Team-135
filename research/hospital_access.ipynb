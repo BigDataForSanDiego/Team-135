{
  "nbformat": 4,
  "nbformat_minor": 0,
  "metadata": {
    "colab": {
      "private_outputs": true,
      "provenance": []
    },
    "kernelspec": {
      "name": "python3",
      "display_name": "Python 3"
    },
    "language_info": {
      "name": "python"
    }
  },
  "cells": [
    {
      "cell_type": "code",
      "execution_count": null,
      "metadata": {
        "id": "JXHDHO1Q6XuW"
      },
      "outputs": [],
      "source": [
        "from google.colab import userdata\n",
        "import requests\n",
        "import pandas as pd"
      ]
    },
    {
      "cell_type": "markdown",
      "source": [
        "### Finding the hospital count by simply querying google maps"
      ],
      "metadata": {
        "id": "8771-FVg8V9p"
      }
    },
    {
      "cell_type": "code",
      "source": [
        "county_data = pd.read_csv('/content/us-county-boundaries.csv', delimiter=';')"
      ],
      "metadata": {
        "id": "Uzr-35rr6i9y"
      },
      "execution_count": null,
      "outputs": []
    },
    {
      "cell_type": "code",
      "source": [
        "def get_hospitals_in_county(county_name, api_key):\n",
        "    url = f\"https://maps.googleapis.com/maps/api/place/textsearch/json?query=hospitals+in+{county_name}+county&key={api_key}\"\n",
        "    response = requests.get(url)\n",
        "    results = response.json().get('results', [])\n",
        "    return len(results)"
      ],
      "metadata": {
        "id": "JCRNBaqH6lCy"
      },
      "execution_count": null,
      "outputs": []
    },
    {
      "cell_type": "code",
      "source": [
        "api_key = userdata.get('googlemaps')\n",
        "county_data['hospital_count'] = county_data['NAME'].apply(lambda x: get_hospitals_in_county(x, api_key))"
      ],
      "metadata": {
        "id": "XceVzxec7JPO"
      },
      "execution_count": null,
      "outputs": []
    },
    {
      "cell_type": "code",
      "source": [
        "county_data[['NAMELSAD', 'hospital_count']].to_csv('hospitals_per_county.csv', index=False)"
      ],
      "metadata": {
        "id": "bho28m-b7ND3"
      },
      "execution_count": null,
      "outputs": []
    },
    {
      "cell_type": "markdown",
      "source": [
        "### Something new"
      ],
      "metadata": {
        "id": "FHxPRaf48dyl"
      }
    },
    {
      "cell_type": "code",
      "source": [
        "county_data = pd.read_csv('/content/us-county-boundaries.csv', delimiter=';')"
      ],
      "metadata": {
        "id": "SIIXPAwS9dsh"
      },
      "execution_count": null,
      "outputs": []
    },
    {
      "cell_type": "code",
      "source": [
        "def get_hospitals_in_county(county_name, api_key):\n",
        "    url = f\"https://maps.googleapis.com/maps/api/place/textsearch/json?query=hospitals+in+{county_name}+county&key={api_key}\"\n",
        "    response = requests.get(url)\n",
        "    results = response.json().get('results', [])\n",
        "    return results"
      ],
      "metadata": {
        "id": "J0U1FTKH8Ep5"
      },
      "execution_count": null,
      "outputs": []
    },
    {
      "cell_type": "code",
      "source": [
        "def get_transit_options(hospital_location, api_key):\n",
        "    url = f\"https://maps.googleapis.com/maps/api/directions/json?origin={hospital_location}&destination={hospital_location}&mode=transit&key={api_key}\"\n",
        "    response = requests.get(url)\n",
        "    routes = response.json().get('routes', [])\n",
        "    return routes\n"
      ],
      "metadata": {
        "id": "R55cR2GU9VjS"
      },
      "execution_count": null,
      "outputs": []
    },
    {
      "cell_type": "code",
      "source": [
        "api_key = userdata.get('googlemaps')\n",
        "transit_data = []\n",
        "\n",
        "for county in county_data['NAME']:\n",
        "    hospitals = get_hospitals_in_county(county, api_key)\n",
        "    for hospital in hospitals:\n",
        "        hospital_location = f\"{hospital['geometry']['location']['lat']},{hospital['geometry']['location']['lng']}\"\n",
        "        transit_options = get_transit_options(hospital_location, api_key)\n",
        "        transit_data.append({\n",
        "            'county': county,\n",
        "            'hospital_name': hospital['name'],\n",
        "            'transit_options': transit_options\n",
        "        })\n",
        "\n",
        "transit_df = pd.DataFrame(transit_data)\n"
      ],
      "metadata": {
        "id": "OLxjHcz29f7R"
      },
      "execution_count": null,
      "outputs": []
    },
    {
      "cell_type": "code",
      "source": [
        "transit_df.to_csv('transit_options_around_hospitals.csv', index=False)"
      ],
      "metadata": {
        "id": "r6wDvnte9n5t"
      },
      "execution_count": null,
      "outputs": []
    }
  ]
}