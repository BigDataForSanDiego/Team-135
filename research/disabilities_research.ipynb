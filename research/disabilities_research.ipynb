{
 "cells": [
  {
   "cell_type": "code",
   "execution_count": 1,
   "metadata": {},
   "outputs": [],
   "source": [
    "import pandas as pd\n",
    "import numpy as np\n",
    "import matplotlib.pyplot as plt\n",
    "import seaborn as sns"
   ]
  },
  {
   "cell_type": "code",
   "execution_count": 2,
   "metadata": {},
   "outputs": [],
   "source": [
    "raw_dis_df = pd.read_csv('../impacts_research_data/ACSST1Y2023.S1810-2024-10-18T052457.csv')"
   ]
  },
  {
   "cell_type": "code",
   "execution_count": 3,
   "metadata": {},
   "outputs": [],
   "source": [
    "for col_name in raw_dis_df.columns:\n",
    "    raw_dis_df[col_name] = raw_dis_df[col_name].str.strip()"
   ]
  },
  {
   "cell_type": "code",
   "execution_count": 4,
   "metadata": {},
   "outputs": [],
   "source": [
    "only_dis_df = raw_dis_df.iloc[22:, [0, 3, 4, 5, 6]].reset_index(drop=True)"
   ]
  },
  {
   "cell_type": "markdown",
   "metadata": {},
   "source": [
    "### Cleaning"
   ]
  },
  {
   "cell_type": "code",
   "execution_count": 5,
   "metadata": {},
   "outputs": [],
   "source": [
    "def clean_int(input_str):\n",
    "    return int(\"\".join(input_str.split(',')))\n",
    "\n",
    "def clean_percent(input_str):\n",
    "    return int(\"\".join(input_str[0:-1].split('.')))/10.0\n",
    "\n",
    "def clean_percent_moe(input_str):\n",
    "    return int(\"\".join(input_str[1:].split('.')))/10.0\n",
    "\n",
    "def clean_moe(input_str):\n",
    "    return clean_int(input_str[1:])"
   ]
  },
  {
   "cell_type": "code",
   "execution_count": 6,
   "metadata": {},
   "outputs": [
    {
     "data": {
      "text/html": [
       "<div>\n",
       "<style scoped>\n",
       "    .dataframe tbody tr th:only-of-type {\n",
       "        vertical-align: middle;\n",
       "    }\n",
       "\n",
       "    .dataframe tbody tr th {\n",
       "        vertical-align: top;\n",
       "    }\n",
       "\n",
       "    .dataframe thead th {\n",
       "        text-align: right;\n",
       "    }\n",
       "</style>\n",
       "<table border=\"1\" class=\"dataframe\">\n",
       "  <thead>\n",
       "    <tr style=\"text-align: right;\">\n",
       "      <th></th>\n",
       "      <th>Label (Grouping)</th>\n",
       "      <th>Imperial County, California!!With a disability!!Estimate</th>\n",
       "      <th>Imperial County, California!!With a disability!!Margin of Error</th>\n",
       "      <th>Imperial County, California!!Percent with a disability!!Estimate</th>\n",
       "      <th>Imperial County, California!!Percent with a disability!!Margin of Error</th>\n",
       "    </tr>\n",
       "  </thead>\n",
       "  <tbody>\n",
       "    <tr>\n",
       "      <th>0</th>\n",
       "      <td>With a hearing difficulty</td>\n",
       "      <td>7,001</td>\n",
       "      <td>±1,251</td>\n",
       "      <td>4.0%</td>\n",
       "      <td>±0.7</td>\n",
       "    </tr>\n",
       "    <tr>\n",
       "      <th>1</th>\n",
       "      <td>Population under 18 years</td>\n",
       "      <td>497</td>\n",
       "      <td>±482</td>\n",
       "      <td>1.0%</td>\n",
       "      <td>±1.0</td>\n",
       "    </tr>\n",
       "    <tr>\n",
       "      <th>2</th>\n",
       "      <td>Population under 5 years</td>\n",
       "      <td>157</td>\n",
       "      <td>±216</td>\n",
       "      <td>1.3%</td>\n",
       "      <td>±1.8</td>\n",
       "    </tr>\n",
       "    <tr>\n",
       "      <th>3</th>\n",
       "      <td>Population 5 to 17 years</td>\n",
       "      <td>340</td>\n",
       "      <td>±348</td>\n",
       "      <td>0.9%</td>\n",
       "      <td>±0.9</td>\n",
       "    </tr>\n",
       "    <tr>\n",
       "      <th>4</th>\n",
       "      <td>Population 18 to 64 years</td>\n",
       "      <td>1,711</td>\n",
       "      <td>±736</td>\n",
       "      <td>1.7%</td>\n",
       "      <td>±0.7</td>\n",
       "    </tr>\n",
       "  </tbody>\n",
       "</table>\n",
       "</div>"
      ],
      "text/plain": [
       "            Label (Grouping)  \\\n",
       "0  With a hearing difficulty   \n",
       "1  Population under 18 years   \n",
       "2   Population under 5 years   \n",
       "3   Population 5 to 17 years   \n",
       "4  Population 18 to 64 years   \n",
       "\n",
       "  Imperial County, California!!With a disability!!Estimate  \\\n",
       "0                                              7,001         \n",
       "1                                                497         \n",
       "2                                                157         \n",
       "3                                                340         \n",
       "4                                              1,711         \n",
       "\n",
       "  Imperial County, California!!With a disability!!Margin of Error  \\\n",
       "0                                             ±1,251                \n",
       "1                                               ±482                \n",
       "2                                               ±216                \n",
       "3                                               ±348                \n",
       "4                                               ±736                \n",
       "\n",
       "  Imperial County, California!!Percent with a disability!!Estimate  \\\n",
       "0                                               4.0%                 \n",
       "1                                               1.0%                 \n",
       "2                                               1.3%                 \n",
       "3                                               0.9%                 \n",
       "4                                               1.7%                 \n",
       "\n",
       "  Imperial County, California!!Percent with a disability!!Margin of Error  \n",
       "0                                               ±0.7                       \n",
       "1                                               ±1.0                       \n",
       "2                                               ±1.8                       \n",
       "3                                               ±0.9                       \n",
       "4                                               ±0.7                       "
      ]
     },
     "execution_count": 6,
     "metadata": {},
     "output_type": "execute_result"
    }
   ],
   "source": [
    "only_dis_df.head(5)"
   ]
  },
  {
   "cell_type": "code",
   "execution_count": 7,
   "metadata": {},
   "outputs": [],
   "source": [
    "for col_name in only_dis_df.columns[1:]:\n",
    "    if 'Percent' in col_name:\n",
    "        if 'Estimate' in col_name:\n",
    "            only_dis_df[col_name] = only_dis_df[col_name].apply(clean_percent)\n",
    "        else: # percent moe\n",
    "            only_dis_df[col_name] = only_dis_df[col_name].apply(clean_percent_moe)\n",
    "    elif 'Estimate' in col_name: # int\n",
    "        only_dis_df[col_name] = only_dis_df[col_name].apply(clean_int)\n",
    "    else: # moe\n",
    "        only_dis_df[col_name] = only_dis_df[col_name].apply(clean_moe)\n"
   ]
  },
  {
   "cell_type": "code",
   "execution_count": 9,
   "metadata": {},
   "outputs": [],
   "source": [
    "cleaned_dis = only_dis_df.copy(deep=True)"
   ]
  },
  {
   "cell_type": "code",
   "execution_count": 10,
   "metadata": {},
   "outputs": [],
   "source": [
    "# getting just the rows with the aggregate information\n",
    "groups_dct = {}\n",
    "for group in only_dis_df['Label (Grouping)']:\n",
    "    if 'with' in group.lower() and 'difficulty' in group.lower():\n",
    "        groups_dct[group] = only_dis_df[only_dis_df['Label (Grouping)'].eq(group)]"
   ]
  },
  {
   "cell_type": "code",
   "execution_count": 28,
   "metadata": {},
   "outputs": [
    {
     "name": "stdout",
     "output_type": "stream",
     "text": [
      "hearing difficulty 7001\n",
      "vision difficulty 6197\n",
      "cognitive difficulty 10234\n",
      "ambulatory difficulty 13041\n",
      "self-care difficulty 6664\n",
      "independent living difficulty 10457\n"
     ]
    }
   ],
   "source": [
    "for row in list(groups_dct.keys()):\n",
    "    type = \" \".join(groups_dct[row].iloc[0, 0].split(\" \")[2:])\n",
    "    num_affected = groups_dct[row].iloc[0, 1]\n",
    "    print(type, num_affected)"
   ]
  },
  {
   "cell_type": "code",
   "execution_count": 26,
   "metadata": {},
   "outputs": [
    {
     "data": {
      "text/html": [
       "<div>\n",
       "<style scoped>\n",
       "    .dataframe tbody tr th:only-of-type {\n",
       "        vertical-align: middle;\n",
       "    }\n",
       "\n",
       "    .dataframe tbody tr th {\n",
       "        vertical-align: top;\n",
       "    }\n",
       "\n",
       "    .dataframe thead th {\n",
       "        text-align: right;\n",
       "    }\n",
       "</style>\n",
       "<table border=\"1\" class=\"dataframe\">\n",
       "  <thead>\n",
       "    <tr style=\"text-align: right;\">\n",
       "      <th></th>\n",
       "      <th>Label (Grouping)</th>\n",
       "      <th>Imperial County, California!!With a disability!!Estimate</th>\n",
       "      <th>Imperial County, California!!With a disability!!Margin of Error</th>\n",
       "      <th>Imperial County, California!!Percent with a disability!!Estimate</th>\n",
       "      <th>Imperial County, California!!Percent with a disability!!Margin of Error</th>\n",
       "    </tr>\n",
       "  </thead>\n",
       "  <tbody>\n",
       "    <tr>\n",
       "      <th>44</th>\n",
       "      <td>With an independent living difficulty</td>\n",
       "      <td>10457</td>\n",
       "      <td>1393</td>\n",
       "      <td>8.5</td>\n",
       "      <td>1.1</td>\n",
       "    </tr>\n",
       "  </tbody>\n",
       "</table>\n",
       "</div>"
      ],
      "text/plain": [
       "                         Label (Grouping)  \\\n",
       "44  With an independent living difficulty   \n",
       "\n",
       "    Imperial County, California!!With a disability!!Estimate  \\\n",
       "44                                              10457          \n",
       "\n",
       "    Imperial County, California!!With a disability!!Margin of Error  \\\n",
       "44                                               1393                 \n",
       "\n",
       "    Imperial County, California!!Percent with a disability!!Estimate  \\\n",
       "44                                                8.5                  \n",
       "\n",
       "    Imperial County, California!!Percent with a disability!!Margin of Error  \n",
       "44                                                1.1                        "
      ]
     },
     "execution_count": 26,
     "metadata": {},
     "output_type": "execute_result"
    }
   ],
   "source": [
    "groups_dct[row]"
   ]
  },
  {
   "cell_type": "code",
   "execution_count": null,
   "metadata": {},
   "outputs": [],
   "source": []
  }
 ],
 "metadata": {
  "kernelspec": {
   "display_name": "Python 3",
   "language": "python",
   "name": "python3"
  },
  "language_info": {
   "codemirror_mode": {
    "name": "ipython",
    "version": 3
   },
   "file_extension": ".py",
   "mimetype": "text/x-python",
   "name": "python",
   "nbconvert_exporter": "python",
   "pygments_lexer": "ipython3",
   "version": "3.11.4"
  }
 },
 "nbformat": 4,
 "nbformat_minor": 2
}
