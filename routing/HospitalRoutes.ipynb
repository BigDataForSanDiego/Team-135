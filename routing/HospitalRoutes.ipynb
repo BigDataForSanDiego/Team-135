{
  "nbformat": 4,
  "nbformat_minor": 0,
  "metadata": {
    "colab": {
      "private_outputs": true,
      "provenance": []
    },
    "kernelspec": {
      "name": "python3",
      "display_name": "Python 3"
    },
    "language_info": {
      "name": "python"
    }
  },
  "cells": [
    {
      "cell_type": "markdown",
      "source": [
        "## Hospital Route Optimizer Demo\n",
        "This demo utilizes the Google Maps Directions API to find the optimized route based on origin, desinations and intermediaries. According to research, it uses an optimized version of Dijkstra’s Algorithm.\n",
        "\n",
        "In this code you can change the origin (hospital) which will also be the final destination. You can also change the different houses by changing the destinations array. Then run all cells and the final cell will generate a google maps link that shows the optimized route.\n",
        "\n",
        "Using the Google Maps API requires an API Key which can be created on the Google Cloud Dashboard.\n",
        "\n",
        "### Important Links\n",
        "[optimized routes documentation](https://developers.google.com/maps/documentation/routes/opt-way)\n",
        "\n",
        "[google maps api key](https://developers.google.com/maps/documentation/javascript/get-api-key)"
      ],
      "metadata": {
        "id": "RtuZCpshthPm"
      }
    },
    {
      "cell_type": "code",
      "execution_count": null,
      "metadata": {
        "collapsed": true,
        "id": "3goTBc_kkiU9"
      },
      "outputs": [],
      "source": [
        "from google.colab import userdata\n",
        "import requests\n",
        "\n",
        "# api key stored in google colab secrets\n",
        "API_KEY = userdata.get('googlemaps')\n",
        "\n",
        "# origin, destinations, and creating waypoints\n",
        "origin = '495 E Birch St, Calexico, CA 92231'\n",
        "destinations = [\n",
        "    '780 Holdridge Rd, Holtville, CA 92250',\n",
        "    '2604 CA-115, Holtville, CA 92250',\n",
        "    '2309 CA-98, Holtville, CA 92250',\n",
        "    '2020 Connelly Rd, Holtville, CA 92250',\n",
        "    '1203 Orchard Rd, Holtville, CA 92250'\n",
        "]\n",
        "waypoints = '|'.join(destinations)\n",
        "\n",
        "# creating api url\n",
        "url = f\"https://maps.googleapis.com/maps/api/directions/json?origin={origin}&destination={origin}&waypoints=optimize:true|{waypoints}&key={API_KEY}\""
      ]
    },
    {
      "cell_type": "code",
      "source": [
        "# making request and getting directions\n",
        "response = requests.get(url)\n",
        "directions = response.json()"
      ],
      "metadata": {
        "id": "EXNuNgjUsrDP"
      },
      "execution_count": null,
      "outputs": []
    },
    {
      "cell_type": "code",
      "source": [
        "# extract and print the optimized route\n",
        "for leg in directions['routes'][0]['legs']:\n",
        "    print(f\"Start: {leg['start_address']}\")\n",
        "    print(f\"End: {leg['end_address']}\")\n",
        "    print(f\"Distance: {leg['distance']['text']}\")\n",
        "    print(f\"Duration: {leg['duration']['text']}\")\n",
        "    print()"
      ],
      "metadata": {
        "id": "V6SHHluylq4K"
      },
      "execution_count": null,
      "outputs": []
    },
    {
      "cell_type": "code",
      "source": [
        "# extract the optimized order\n",
        "optimized_order = directions['routes'][0]['waypoint_order']\n",
        "print(\"optimized order:\", optimized_order)\n",
        "optimized_waypoints = [destinations[i] for i in optimized_order]\n",
        "print(\"optimized waypoints:\", optimized_waypoints)\n",
        "\n",
        "# generate the google maps url\n",
        "google_maps_url = f\"https://www.google.com/maps/dir/?api=1&origin={origin.replace(' ', '+')}&destination={origin.replace(' ', '+')}&waypoints=\" + '|'.join([wp.replace(' ', '+') for wp in optimized_waypoints])\n",
        "print(\"google maps url:\", google_maps_url)"
      ],
      "metadata": {
        "id": "iGlug4QymuwS"
      },
      "execution_count": null,
      "outputs": []
    },
    {
      "cell_type": "code",
      "source": [],
      "metadata": {
        "id": "KLlohHq5oIrF"
      },
      "execution_count": null,
      "outputs": []
    }
  ]
}